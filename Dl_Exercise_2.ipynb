{
  "nbformat": 4,
  "nbformat_minor": 0,
  "metadata": {
    "colab": {
      "provenance": [],
      "authorship_tag": "ABX9TyN3rMqSgFdzxRYC+oc4PwAs",
      "include_colab_link": true
    },
    "kernelspec": {
      "name": "python3",
      "display_name": "Python 3"
    },
    "language_info": {
      "name": "python"
    }
  },
  "cells": [
    {
      "cell_type": "markdown",
      "metadata": {
        "id": "view-in-github",
        "colab_type": "text"
      },
      "source": [
        "<a href=\"https://colab.research.google.com/github/sumanth810/CSC4451-Deep-Learning-Practical-Component/blob/main/Dl_Exercise_2.ipynb\" target=\"_parent\"><img src=\"https://colab.research.google.com/assets/colab-badge.svg\" alt=\"Open In Colab\"/></a>"
      ]
    },
    {
      "cell_type": "code",
      "execution_count": 1,
      "metadata": {
        "id": "HGXDuFFDSF1M"
      },
      "outputs": [],
      "source": [
        "from numpy import array, random, dot\n",
        "from random import choice"
      ]
    },
    {
      "cell_type": "code",
      "source": [
        "step_function = lambda x: 0 if x < 0 else 1"
      ],
      "metadata": {
        "id": "W-jsCCrASafF"
      },
      "execution_count": 2,
      "outputs": []
    },
    {
      "cell_type": "code",
      "source": [
        "training_dataset = [\n",
        "\n",
        "    (array([0,0,1]), 0),\n",
        "\n",
        "    (array([0,1,1]), 1),\n",
        "\n",
        "    (array([1,0,1]), 1),\n",
        "\n",
        "    (array([1,1,1]), 1),\n",
        "\n",
        "]"
      ],
      "metadata": {
        "id": "3kkC6jKYSgDx"
      },
      "execution_count": 3,
      "outputs": []
    },
    {
      "cell_type": "code",
      "source": [
        "weights = random.rand(3)"
      ],
      "metadata": {
        "id": "Xmorw0J3SkyZ"
      },
      "execution_count": 4,
      "outputs": []
    },
    {
      "cell_type": "code",
      "source": [
        "error = []\n",
        "\n",
        "learning_rate = 0.2\n",
        "\n",
        "n = 100\n",
        "\n",
        "\n",
        "for j in range(n):\n",
        "\n",
        "    x, expected = choice(training_dataset)\n",
        "\n",
        "    result = dot(weights, x)\n",
        "\n",
        "    err = expected - step_function(result)\n",
        "\n",
        "    error.append(err)\n",
        "\n",
        "    weights += learning_rate * err * x"
      ],
      "metadata": {
        "id": "8jNNrBnISl4J"
      },
      "execution_count": 5,
      "outputs": []
    },
    {
      "cell_type": "code",
      "source": [
        "for x, _ in training_dataset:\n",
        "\n",
        "    result = dot(x, weights)\n",
        "\n",
        "    print('{}: {} -> {}'.format(x[:2],result,step_function(result)))"
      ],
      "metadata": {
        "colab": {
          "base_uri": "https://localhost:8080/"
        },
        "id": "Z_pIogSwSqwY",
        "outputId": "14f6cc40-8cfc-4dcf-b6c8-484919312870"
      },
      "execution_count": 6,
      "outputs": [
        {
          "output_type": "stream",
          "name": "stdout",
          "text": [
            "[0 0]: -0.1907413529614973 -> 0\n",
            "[0 1]: 0.37994370929763577 -> 1\n",
            "[1 0]: 0.14825939899622587 -> 1\n",
            "[1 1]: 0.7189444612553589 -> 1\n"
          ]
        }
      ]
    },
    {
      "cell_type": "code",
      "source": [
        "from pylab import ylim,plot\n",
        "\n",
        "from matplotlib import pyplot as plt\n",
        "\n",
        "ylim([-1,1])\n",
        "\n",
        "plot(error)\n",
        "\n",
        "plt.show()"
      ],
      "metadata": {
        "colab": {
          "base_uri": "https://localhost:8080/",
          "height": 269
        },
        "id": "Iu6R2-qWSutH",
        "outputId": "86e10616-9ce8-4b47-d878-c9152f8cf545"
      },
      "execution_count": 7,
      "outputs": [
        {
          "output_type": "display_data",
          "data": {
            "text/plain": [
              "<Figure size 432x288 with 1 Axes>"
            ],
            "image/png": "[encoded data removed]"
          },
          "metadata": {
            "needs_background": "light"
          }
        }
      ]
    }
  ]
}